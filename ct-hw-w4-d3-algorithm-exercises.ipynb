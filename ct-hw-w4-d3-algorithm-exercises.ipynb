{
 "cells": [
  {
   "attachments": {},
   "cell_type": "markdown",
   "metadata": {},
   "source": [
    "## Exercise #1\n",
    "\n",
    "Reverse the list below in-place using an in-place algorithm.<br>For extra credit: Reverse the strings at the same time."
   ]
  },
  {
   "cell_type": "code",
   "execution_count": 10,
   "metadata": {},
   "outputs": [
    {
     "name": "stdout",
     "output_type": "stream",
     "text": [
      "['this', 'is', 'a', 'sentence', '.']\n",
      "['.', 'sentence', 'a', 'is', 'this']\n"
     ]
    }
   ],
   "source": [
    "def reverse(a_list):\n",
    "    stop = len(a_list)//2 # not inclusive stop index\n",
    "    # last index checked in this loom is 1 short of the middle if len is odd, and middle if len is even\n",
    "    for i in range(stop):\n",
    "        # swap two opposite values\n",
    "        # bitwise not: ~i = -i-1 which makes it an index from the opposite side of iterable \n",
    "        a_list[i], a_list[~i] = a_list[~i], a_list[i]\n",
    "\n",
    "words = ['this' , 'is', 'a', 'sentence', '.']\n",
    "print(words)\n",
    "reverse(words)\n",
    "print(words)\n",
    "\n",
    "# string = \"asdfsadf\"\n",
    "# reverse(string)\n",
    "# print(string)\n",
    "\n",
    "# 'str' object does not support item assignment\n",
    "\n",
    "# reversing a string in place is impossible since it's immutable"
   ]
  },
  {
   "cell_type": "code",
   "execution_count": 6,
   "metadata": {},
   "outputs": [
    {
     "name": "stdout",
     "output_type": "stream",
     "text": [
      "['this', 'is', 'a', 'sentence', '.']\n",
      "['.', 'ecnetnes', 'a', 'si', 'siht']\n"
     ]
    }
   ],
   "source": [
    "# A function for this particular situation\n",
    "\n",
    "def reverse_list_of_strings(a_list):\n",
    "    new_list = a_list[::-1]\n",
    "    for i in range(len(new_list)):\n",
    "        new_list[i] = new_list[i][::-1]\n",
    "    return new_list\n",
    "\n",
    "words = ['this' , 'is', 'a', 'sentence', '.']\n",
    "print(words)\n",
    "print(reverse_list_of_strings(words))\n"
   ]
  },
  {
   "attachments": {},
   "cell_type": "markdown",
   "metadata": {},
   "source": [
    "## Exercise #2 <br>\n",
    "Create a function that counts how many distinct words are in the string below,<br>then outputs a dictionary with the words as the key and the value as the amount of times that word appears in the string.<br>\n",
    "Example Output:<br><code>{'in': 1, 'computing': 1, 'a': 5, ...}</code>"
   ]
  },
  {
   "cell_type": "code",
   "execution_count": 7,
   "metadata": {},
   "outputs": [
    {
     "name": "stdout",
     "output_type": "stream",
     "text": [
      "{'in': 1, 'computing': 1, 'a': 5, 'hash': 4, 'table': 2, 'map': 2, 'is': 1, 'data': 2, 'structure': 2, 'which': 2, 'implements': 1, 'an': 3, 'associative': 1, 'array': 2, 'abstract': 1, 'type': 1, 'that': 1, 'can': 2, 'keys': 1, 'to': 2, 'values': 1, 'uses': 1, 'function': 1, 'compute': 1, 'index': 1, 'into': 1, 'of': 1, 'buckets': 1, 'or': 1, 'slots': 1, 'from': 1, 'the': 1, 'desired': 1, 'value': 1, 'be': 1, 'found': 1}\n"
     ]
    }
   ],
   "source": [
    "a_text = 'In computing, a hash table hash map is a data structure which implements an associative array abstract data type, a structure that can map keys to values. A hash table uses a hash function to compute an index into an array of buckets or slots from which the desired value can be found'\n",
    "\n",
    "# split method\n",
    "def my_counter(string):\n",
    "    result = {}\n",
    "    for word in string.split():\n",
    "        clear_word = word.strip(\",.!:;?\").lower()\n",
    "        if clear_word not in result:\n",
    "            result[clear_word] = 1\n",
    "        else:\n",
    "            result[clear_word] += 1\n",
    "    return result\n",
    "\n",
    "print(my_counter(a_text))\n"
   ]
  },
  {
   "cell_type": "code",
   "execution_count": 10,
   "metadata": {},
   "outputs": [
    {
     "name": "stdout",
     "output_type": "stream",
     "text": [
      "{'in': 1, 'computing': 1, 'a': 5, 'hash': 4, 'table': 2, 'map': 2, 'is': 1, 'data': 2, 'structure': 2, 'which': 2, 'implements': 1, 'an': 3, 'associative': 1, 'array': 2, 'abstract': 1, 'type': 1, 'that': 1, 'can': 2, 'keys': 1, 'to': 2, 'values': 1, 'uses': 1, 'function': 1, 'compute': 1, 'index': 1, 'into': 1, 'of': 1, 'buckets': 1, 'or': 1, 'slots': 1, 'from': 1, 'the': 1, 'desired': 1, 'value': 1, 'be': 1, 'found': 1}\n"
     ]
    }
   ],
   "source": [
    "import re\n",
    "\n",
    "# regex method (which is really just a split)\n",
    "def my_counter_regex(string):\n",
    "    result = {}\n",
    "    for word in re.findall(r\"\\w+\",string):\n",
    "        clear_word = word.strip(\",.!:;?\").lower()\n",
    "        if clear_word not in result:\n",
    "            result[clear_word] = 1\n",
    "        else:\n",
    "            result[clear_word] += 1\n",
    "    return result\n",
    "\n",
    "print(my_counter(a_text))"
   ]
  },
  {
   "cell_type": "code",
   "execution_count": 11,
   "metadata": {},
   "outputs": [
    {
     "name": "stdout",
     "output_type": "stream",
     "text": [
      "{'in': 1, 'computing': 1, 'a': 5, 'hash': 4, 'table': 2, 'map': 2, 'is': 1, 'data': 2, 'structure': 2, 'which': 2, 'implements': 1, 'an': 3, 'associative': 1, 'array': 2, 'abstract': 1, 'type': 1, 'that': 1, 'can': 2, 'keys': 1, 'to': 2, 'values': 1, 'uses': 1, 'function': 1, 'compute': 1, 'index': 1, 'into': 1, 'of': 1, 'buckets': 1, 'or': 1, 'slots': 1, 'from': 1, 'the': 1, 'desired': 1, 'value': 1, 'be': 1, 'found': 1}\n"
     ]
    }
   ],
   "source": [
    "# Direct method, letter by letter. May be a little faster\n",
    "\n",
    "def my_counter_regex(string):\n",
    "    result = {}\n",
    "    separators = {\" \", \",\", \".\"}\n",
    "    temp_str = \"\"\n",
    "    for letter in string:\n",
    "        if letter not in separators:\n",
    "            temp_str += letter\n",
    "            continue\n",
    "        if not temp_str:\n",
    "            continue\n",
    "        if temp_str not in result:\n",
    "            result[temp_str] = 1\n",
    "        else:\n",
    "            result[temp_str] += 1\n",
    "        temp_str = \"\"\n",
    "    return result\n",
    "\n",
    "\n",
    "print(my_counter(a_text))"
   ]
  },
  {
   "attachments": {},
   "cell_type": "markdown",
   "metadata": {},
   "source": [
    "\n",
    "## Exercise #3\n",
    "\n",
    "Write a function implementing a Linear Search Algorithm.<br>A linear search is a method for finding an element within a list.<br>It sequentially checks each element of the list until a match is found or the whole list has been searched.<br>If you do not find a match, return -1\n"
   ]
  },
  {
   "cell_type": "code",
   "execution_count": 9,
   "metadata": {},
   "outputs": [
    {
     "name": "stdout",
     "output_type": "stream",
     "text": [
      "found 70 at index 3\n",
      "-1\n"
     ]
    }
   ],
   "source": [
    "\n",
    "nums_list = [10,23,45,70,11,15]\n",
    "target = 70\n",
    "\n",
    "def linear_search(a_list, target):\n",
    "    for i in range(len(a_list)):\n",
    "        if a_list[i] == target:\n",
    "            return f\"found {target} at index {i}\"\n",
    "    return -1\n",
    "\n",
    "print(linear_search(nums_list,target))\n",
    "print(linear_search(nums_list,1))\n",
    "# If number is not present return -1"
   ]
  }
 ],
 "metadata": {
  "kernelspec": {
   "display_name": "Python 3",
   "language": "python",
   "name": "python3"
  },
  "language_info": {
   "codemirror_mode": {
    "name": "ipython",
    "version": 3
   },
   "file_extension": ".py",
   "mimetype": "text/x-python",
   "name": "python",
   "nbconvert_exporter": "python",
   "pygments_lexer": "ipython3",
   "version": "3.10.8"
  },
  "orig_nbformat": 4,
  "vscode": {
   "interpreter": {
    "hash": "26de051ba29f2982a8de78e945f0abaf191376122a1563185a90213a26c5da77"
   }
  }
 },
 "nbformat": 4,
 "nbformat_minor": 2
}
